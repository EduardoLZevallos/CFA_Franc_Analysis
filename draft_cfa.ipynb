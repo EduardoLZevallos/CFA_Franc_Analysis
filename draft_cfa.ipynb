{
 "cells": [
  {
   "cell_type": "code",
   "execution_count": null,
   "id": "f1279f61-1dd0-4a33-9fff-0a68f1b7a287",
   "metadata": {},
   "outputs": [],
   "source": [
    "import pandas as pd\n",
    "import requests\n",
    "from bokeh.plotting import figure, show\n",
    "from bokeh.io import output_notebook\n",
    "from bokeh.palettes import Category20, cividis\n",
    "from bokeh.models import Legend, HoverTool, PrintfTickFormatter, ColumnDataSource, Range1d\n",
    "from statistics import median\n",
    "import numpy as np\n",
    "import datetime\n",
    "output_notebook()"
   ]
  },
  {
   "cell_type": "code",
   "execution_count": null,
   "id": "4e516a1d-2e25-4525-bf90-01e9686ba57b",
   "metadata": {
    "jupyter": {
     "source_hidden": true
    },
    "tags": []
   },
   "outputs": [],
   "source": [
    "# def graph_inflation_of_countries(list_of_countries:list):\n",
    "#     abbr = [countries[x] for x in list_of_countries] # countries is from imf \n",
    "#     inflation_rates = rename_from_abbr_to_full_name(get_all_inflation_rate(abbr))\n",
    "#     p = figure(title=\"Inflation Over Time in Non-CFA Franc Zone\", \n",
    "#            x_axis_label=\"Year\", \n",
    "#            y_axis_label=\"Inflation Rate\"\n",
    "#         )\n",
    "#     # Define the colors for each country\n",
    "#     if len(inflation_rates) > 20:\n",
    "#         colors = cividis(len(inflation_rates))\n",
    "#     else:\n",
    "#         colors = Category20[len(inflation_rates)]\n",
    "#     # Add a line for each country\n",
    "#     for i, (country, values) in enumerate(inflation_rates.items()):\n",
    "#         x = list(values.keys())\n",
    "#         y = list(values.values())\n",
    "#         p.line(x=x, y=y, color=colors[i], alpha = 0.5)\n",
    "    \n",
    "#     # median is the median inflation rate of cfa countries \n",
    "#     p.line(x=list(medians.keys()), y = list(medians.values()), color = 'cornflowerblue', line_width = 4,  line_dash = \"dashed\")\n",
    "#     hover = HoverTool(tooltips=[(\"Country\", \"$name\"), (\"Year\", \"@x\"), (\"Inflation\", \"@y\")], formatters={\"@name\": \"printf\", \"@x\": \"numeral\", \"@y\": \"numeral\"})\n",
    "#     p.add_tools(hover)\n",
    "    \n",
    "#     legend = Legend(items=[(country, [line]) for country, line in zip(inflation_rates.keys(), p.renderers)], location=\"top_right\")\n",
    "#     p.add_layout(legend)\n",
    "    \n",
    "#     # Disable scientific notation for y-axis ticks\n",
    "#     p.yaxis[0].formatter = PrintfTickFormatter(format=\"%d\")\n",
    "#     p.legend.title = \"Countries\"\n",
    "#     p.legend.background_fill_alpha = 0\n",
    "#     p.legend.border_line_alpha = 0\n",
    "#     p.legend.click_policy=\"hide\"\n",
    "    \n",
    "#     p.xgrid.grid_line_color = None\n",
    "#     p.ygrid.grid_line_color = None\n",
    "#     p.xaxis.major_tick_line_color = None  # turn off x-axis major ticks\n",
    "#     p.xaxis.minor_tick_line_color = None  # turn off x-axis minor ticks\n",
    "#     p.yaxis.major_tick_line_color = None  # turn off y-axis major ticks\n",
    "#     p.yaxis.minor_tick_line_color = None  # turn off y-axis minor ticks\n",
    "#     # Show the plot\n",
    "#     return p"
   ]
  },
  {
   "cell_type": "code",
   "execution_count": null,
   "id": "8b0c0850-a6bf-438c-96fe-e793004a8694",
   "metadata": {},
   "outputs": [],
   "source": [
    "\"\"\" \n",
    "TODO:\n",
    "- fix hover tool\n",
    "- make lines thicker? \n",
    "- turn functions into package\n",
    "- break out the cfa into the two economic unions?\n",
    "- check when the metrics were published - found in indicator dict\n",
    "\n",
    "\"\"\""
   ]
  },
  {
   "cell_type": "code",
   "execution_count": null,
   "id": "2ded31a4-acd0-44a3-99ac-0ce600aeef16",
   "metadata": {},
   "outputs": [],
   "source": [
    "\"\"\"\n",
    "NOTES:\n",
    "- will not remove outliers for cfa franc zone because each period only has 14 data points \n",
    "\n",
    "\"\"\""
   ]
  },
  {
   "cell_type": "markdown",
   "id": "26246d26-be3e-44c8-b06e-503b5bfd9a5d",
   "metadata": {},
   "source": [
    "The CFA franc zone consists of 14 countries in sub-Saharan Africa, each affiliated with one of two monetary unions. Benin, Burkina Faso, Côte D’Ivoire, Guinea-Bissau, Mali, Niger, Senegal, and Togo comprise the West African Economic and Monetary Union, or WAEMU, founded in 1994 to build on the foundation of the West African Monetary Union, founded in 1973. The remaining six countries — Cameroon, Central African Republic, Chad, Republic of Congo, Equatorial Guinea, and Gabon — comprise the Central African Economic and Monetary Union, or CAEMC. "
   ]
  },
  {
   "cell_type": "code",
   "execution_count": null,
   "id": "03548b88-33e4-48a9-ace3-d0ea37a33e39",
   "metadata": {
    "tags": []
   },
   "outputs": [],
   "source": [
    "# all_non_cfa = ['Algeria',\n",
    "#  'Angola',\n",
    "#  'Botswana',\n",
    "#  'Burundi',\n",
    "#  'Cabo Verde',\n",
    "#  'Comoros',\n",
    "#  'Djibouti',\n",
    "#  'Egypt',\n",
    "#  'Eritrea',\n",
    "#  'Eswatini',\n",
    "#  'Ethiopia',\n",
    "#  'Gambia, The',\n",
    "#  'Ghana',\n",
    "#  'Guinea',\n",
    "#  'Kenya',\n",
    "#  'Lesotho',\n",
    "#  'Liberia',\n",
    "#  'Libya',\n",
    "#  'Madagascar',\n",
    "#  'Malawi',\n",
    "#  'Mauritania',\n",
    "#  'Mauritius',\n",
    "#  'Morocco',\n",
    "#  'Mozambique',\n",
    "#  'Namibia',\n",
    "#  'Nigeria',\n",
    "#  'Rwanda',\n",
    "#  'São Tomé and Príncipe',\n",
    "#  'Seychelles',\n",
    "#  'Sierra Leone',\n",
    "#  'Somalia',\n",
    "#  'South Africa',\n",
    "#  'South Sudan, Republic of',\n",
    "#  'Sudan',\n",
    "#  'Tanzania',\n",
    "#  'Tunisia',\n",
    "#  'Uganda',\n",
    "#  'Zambia',\n",
    "#  'Zimbabwe',\n",
    "#  'Congo, Dem. Rep. of the']"
   ]
  },
  {
   "cell_type": "code",
   "execution_count": null,
   "id": "f59d37b8-58ad-49b1-b08e-534105208a89",
   "metadata": {},
   "outputs": [],
   "source": [
    "cfa_franc_zone = ['Benin', 'Burkina Faso', 'Cameroon', 'Central African Republic', 'Chad', 'Congo, Republic of ', 'Côte d\\'Ivoire', 'Equatorial Guinea', 'Gabon', 'Guinea-Bissau', 'Mali', 'Niger', 'Senegal', 'Togo']"
   ]
  },
  {
   "cell_type": "code",
   "execution_count": null,
   "id": "88aed30c-b9cc-41cc-ac33-37e830832725",
   "metadata": {},
   "outputs": [],
   "source": [
    "chunk1_non_cfa = [\n",
    "    'Algeria',\n",
    "    'Botswana',\n",
    "    'Burundi',\n",
    "    'Cabo Verde',\n",
    "    'Comoros',\n",
    "    'Djibouti',\n",
    "    'Egypt',\n",
    "    'Eritrea',\n",
    "    'Eswatini',\n",
    "    'Ethiopia',\n",
    "    'Gambia, The',\n",
    "    'Ghana',\n",
    "    'Guinea',\n",
    "    'Kenya',\n",
    "    'Lesotho',\n",
    "    'Liberia',\n",
    "    'Libya',\n",
    "    'Madagascar',\n",
    "    'Malawi',\n",
    "    'Mauritania',\n",
    "    'Mauritius',\n",
    "    'Morocco',\n",
    "    'Mozambique',\n",
    "    'Namibia',\n",
    "    'Nigeria',\n",
    "    'Rwanda'\n",
    "]\n",
    "\n",
    "chunk2_non_cfa = [\n",
    "    'São Tomé and Príncipe',\n",
    "    'Seychelles',\n",
    "    'Sierra Leone',\n",
    "    'Somalia',\n",
    "    'South Africa',\n",
    "    'South Sudan, Republic of',\n",
    "    'Sudan',\n",
    "    'Tanzania',\n",
    "    'Tunisia',\n",
    "    'Uganda',\n",
    "    'Zambia',\n",
    "    'Zimbabwe',\n",
    "    'Angola', \n",
    "    'Congo, Dem. Rep. of the'\n",
    "]"
   ]
  },
  {
   "cell_type": "code",
   "execution_count": null,
   "id": "9d315849-d179-42c9-aea3-cdd3389c50b3",
   "metadata": {
    "tags": []
   },
   "outputs": [],
   "source": [
    "def rename_from_abbr_to_full_name(inflation_dict):\n",
    "    abbrv = list(inflation_dict.keys())\n",
    "    for key in abbrv:\n",
    "        inflation_dict[all_countries['countries'][key]['label']] = inflation_dict.pop(key)\n",
    "    return inflation_dict"
   ]
  },
  {
   "cell_type": "code",
   "execution_count": null,
   "id": "2ae7345b-ce9e-41cc-9405-e4ad6eacf626",
   "metadata": {},
   "outputs": [],
   "source": [
    "def get_data_from_imf(url: str):\n",
    "    response = requests.get(url)\n",
    "    # Check if the request was successful\n",
    "    if response.status_code == 200:\n",
    "        # Parse the JSON data\n",
    "        data = response.json()\n",
    "        # Do something with the data\n",
    "        return data\n",
    "    else:\n",
    "        print(\"Error: Could not retrieve data from the API endpoint.\")"
   ]
  },
  {
   "cell_type": "code",
   "execution_count": null,
   "id": "f6835422-edb8-44c4-ace8-da33662c6570",
   "metadata": {},
   "outputs": [],
   "source": [
    "def get_all_metric_data(country_list, metric_abbr):\n",
    "    abbr = [countries[x] for x in country_list]\n",
    "    url = f\"https://www.imf.org/external/datamapper/api/v1/{metric_abbr}\"\n",
    "    for country in abbr:\n",
    "        url += f'/{country}'\n",
    "    return get_data_from_imf(url)['values'][metric_abbr]"
   ]
  },
  {
   "cell_type": "code",
   "execution_count": null,
   "id": "db6a88d5-dd01-4670-8c71-e8c874df269d",
   "metadata": {},
   "outputs": [],
   "source": [
    "def find_outliers_IQR(df):\n",
    "     # Calculate the first quartile (Q1) and third quartile (Q3)\n",
    "    q1=df.quantile(0.25, interpolation = 'midpoint', numeric_only=True)\n",
    "    q3=df.quantile(0.75, interpolation = 'midpoint', numeric_only=True)\n",
    "    \n",
    "    # Calculate the interquartile range (IQR)\n",
    "    IQR=q3-q1\n",
    "    \n",
    "    # Calculate the lower and upper bounds for outliers\n",
    "    outliers = df[((df<(q1-1.5*IQR)) | (df>(q3+1.5*IQR)))]\n",
    "    return outliers"
   ]
  },
  {
   "cell_type": "code",
   "execution_count": null,
   "id": "56baaa31-0cdd-451c-9b57-d1eee866dee7",
   "metadata": {},
   "outputs": [],
   "source": [
    "def remove_outliers(original_df, outlier_df):\n",
    "    \"\"\"40 countries per year in the noncfa, so i think its fine to remove outliers\"\"\"\n",
    "    original_df[outlier_df.notna()] = np.nan\n",
    "    return original_df"
   ]
  },
  {
   "cell_type": "code",
   "execution_count": null,
   "id": "2329a182-95b5-4948-9c16-c5b3768f96e0",
   "metadata": {},
   "outputs": [],
   "source": [
    "def generate_median_df(df):\n",
    "    median_df = df.median().to_frame(name=\"median\")\n",
    "    median_df.index.name=\"year\"\n",
    "    median_df.reset_index(inplace=True)\n",
    "    median_df.sort_values(by='year', inplace=True)\n",
    "    median_df['year'] = median_df['year'].astype(int)  # had an issue where some of the data was returning as string \n",
    "    median_df['median'] = median_df['median'].astype(float) # had an issue where some of the data was returning as string \n",
    "    return median_df"
   ]
  },
  {
   "cell_type": "code",
   "execution_count": null,
   "id": "34b120f6-9d28-49ed-affa-92572f435585",
   "metadata": {},
   "outputs": [],
   "source": [
    "def remove_future_years(median_df):\n",
    "    current_year = datetime.datetime.now().year # drop years that dont exist yet\n",
    "    return median_df[median_df['year'] <= current_year]"
   ]
  },
  {
   "cell_type": "code",
   "execution_count": null,
   "id": "c9c14469-776d-408c-837f-9f8701bd1448",
   "metadata": {},
   "outputs": [],
   "source": [
    "def generate_graph(cfa_df, non_cfa_df, metric_name):\n",
    "    p = figure(\n",
    "            title=f\"{metric_name} over time\", \n",
    "            x_axis_label=\"Year\", \n",
    "            y_axis_label=metric_name,\n",
    "            width=1000, \n",
    "            height=400,\n",
    "        )\n",
    "    p.line(x='year', y = 'median', color = 'rosybrown', line_width = 2, legend_label=f\"Non-CFA Median {metric_name}\", source = ColumnDataSource(non_cfa_df))\n",
    "    p.line(x='year', y = 'median', color = 'cornflowerblue', line_width = 2, legend_label=f\"CFA Median {metric_name}\", source = ColumnDataSource(cfa_df))\n",
    "    for legend in p.legend:\n",
    "        p.add_layout(legend, 'right')\n",
    "    # hover = HoverTool(tooltips=[(\"Year\", \"@x\"), (metric_name, \"@y\")], formatters={\"@x\": \"numeral\", \"@y\": \"numeral\"})\n",
    "    # p.add_tools(hover)\n",
    "    # p.yaxis[0].formatter = PrintfTickFormatter(format=\"%d\")\n",
    "    p.legend.click_policy=\"hide\"\n",
    "    p.xgrid.grid_line_color = None\n",
    "    p.ygrid.grid_line_color = None\n",
    "    p.xaxis.major_tick_line_color = None  # turn off x-axis major ticks\n",
    "    p.xaxis.minor_tick_line_color = None  # turn off x-axis minor ticks\n",
    "    p.yaxis.major_tick_line_color = None  # turn off y-axis major ticks\n",
    "    p.yaxis.minor_tick_line_color = None  # turn off y-axis minor ticks\n",
    "    return p"
   ]
  },
  {
   "cell_type": "code",
   "execution_count": null,
   "id": "25298db2-96aa-4bf3-a2d9-fc46a1309116",
   "metadata": {},
   "outputs": [],
   "source": [
    "def generate_metric_graphs(indicators_imf_dict):\n",
    "    for indicator in indicators_imf_dict['indicators']: \n",
    "        try:\n",
    "            chunk_1_data_non_cfa = rename_from_abbr_to_full_name(get_all_metric_data(chunk1_non_cfa, indicator))\n",
    "            chunk_2_data_non_cfa = rename_from_abbr_to_full_name(get_all_metric_data(chunk2_non_cfa, indicator))\n",
    "            chunk_1_data_non_cfa.update(chunk_2_data_non_cfa)\n",
    "            non_cfa_df = pd.DataFrame.from_dict(chunk_1_data_non_cfa).T\n",
    "            non_cfa_df = remove_outliers(non_cfa_df, find_outliers_IQR(non_cfa_df))\n",
    "            cfa_data =  rename_from_abbr_to_full_name(get_all_metric_data(cfa_franc_zone, indicator))\n",
    "            cfa_df = pd.DataFrame.from_dict(cfa_data).T\n",
    "            median_cfa_df = remove_future_years(generate_median_df(cfa_df))\n",
    "            median_non_cfa_df = remove_future_years(generate_median_df(non_cfa_df))\n",
    "            p = generate_graph(median_cfa_df, median_non_cfa_df, indicators['indicators'][indicator]['label'])\n",
    "            show(p)\n",
    "        except:\n",
    "            print(f\"issue with indicator {indicator}\")"
   ]
  },
  {
   "cell_type": "code",
   "execution_count": null,
   "id": "331be215-5bc8-4ea5-bc4a-3f134e4c1220",
   "metadata": {},
   "outputs": [],
   "source": [
    "all_countries = get_data_from_imf(\"https://www.imf.org/external/datamapper/api/v1/countries\")\n",
    "countries = {v['label']: k for k, v in all_countries['countries'].items()}"
   ]
  },
  {
   "cell_type": "code",
   "execution_count": null,
   "id": "237dd4b0-f903-4697-a80f-ea89c4099fda",
   "metadata": {},
   "outputs": [],
   "source": [
    "indicators = get_data_from_imf(\"https://www.imf.org/external/datamapper/api/v1/indicators\")"
   ]
  },
  {
   "cell_type": "code",
   "execution_count": null,
   "id": "5bce2b34-e1a4-4e35-b6cf-fa0273a2beea",
   "metadata": {
    "tags": []
   },
   "outputs": [],
   "source": [
    "generate_metric_graphs(indicators)"
   ]
  }
 ],
 "metadata": {
  "kernelspec": {
   "display_name": "cfa",
   "language": "python",
   "name": "cfa_franc"
  },
  "language_info": {
   "codemirror_mode": {
    "name": "ipython",
    "version": 3
   },
   "file_extension": ".py",
   "mimetype": "text/x-python",
   "name": "python",
   "nbconvert_exporter": "python",
   "pygments_lexer": "ipython3",
   "version": "3.8.2"
  }
 },
 "nbformat": 4,
 "nbformat_minor": 5
}
