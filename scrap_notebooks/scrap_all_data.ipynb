{
 "cells": [
  {
   "cell_type": "code",
   "execution_count": 3,
   "id": "5d182903-cda4-4d1c-8e32-c818dd0c1605",
   "metadata": {},
   "outputs": [],
   "source": [
    "import traceback\n",
    "from typing import List, Optional\n",
    "import logging\n",
    "from bokeh.io import output_notebook\n",
    "import polars as pl\n",
    "from cfa_analysis.data_retrieval import (\n",
    "    get_country_mapping,\n",
    "    get_indicators_data,\n",
    "    get_all_duplicate_dfs,\n",
    "    get_imf_data_df,\n",
    "    get_cfa_and_noncfa_data,\n",
    ")\n",
    "from cfa_analysis.data_cleanup import (\n",
    "    find_outliers_IQR,\n",
    "    clean_up_indicators_dict,\n",
    "    find_duplicate_indicators,\n",
    "    merge_duplicate_dfs,\n",
    ")\n",
    "from cfa_analysis.analysis import process_single_indicator\n",
    "from cfa_analysis.data_classes import Indicator\n",
    "from cfa_analysis.constants import CFA_FRANC_ZONE, WEST_AFRICA, MIDDLE_AFRICA, SKIP_INDICATORS"
   ]
  },
  {
   "cell_type": "code",
   "execution_count": 5,
   "id": "8df0d5f2-b722-416b-a7df-2e40328eac68",
   "metadata": {
    "tags": []
   },
   "outputs": [],
   "source": [
    "all_dfs = []\n",
    "all_countries, countries,  = get_country_mapping()\n",
    "indicators = clean_up_indicators_dict(get_indicators_data())\n",
    "duplicate_indicators = find_duplicate_indicators(indicators)\n",
    "processed_dupes = set() # after processing duplicates, also can use to set indicators in general that I want to skip\n",
    "for indicator_abbrv in indicators:\n",
    "    # Wang Jahan ends in 2015 and its an index, requires more research to see if useful\n",
    "    # ommitting Capital Flows because data appears very incomplete\n",
    "    if (indicator_abbrv in SKIP_INDICATORS) or (indicator_abbrv in processed_dupes)  or (indicators[indicator_abbrv]['source'] in ['Wang-Jahan Index', 'Capital Flows in Developing Economies']): \n",
    "        continue\n",
    "    indicator_info = indicators.get(indicator_abbrv, {})\n",
    "    indicator_label = indicator_info.get(\"label\", \"\")\n",
    "    indicator_label = indicator_label.strip(\"\\n\") if indicator_label is not None else None\n",
    "    indicator_unit = indicator_info.get(\"unit\", \"\")\n",
    "    indicator_unit = indicator_unit.strip(\"\\n\") if indicator_unit is not None else None\n",
    "    indicator = Indicator(indicator_abbrv, indicator_info.get(\"description\", \"\"), indicator_label, indicator_unit)\n",
    "    try:\n",
    "        if (indicator.label, indicator.unit) in duplicate_indicators:\n",
    "            all_data_df = merge_duplicate_dfs(get_all_duplicate_dfs(duplicate_indicators, indicator.label, indicator.unit, processed_dupes, countries, all_countries), indicator.label)\n",
    "        else:\n",
    "            all_data_df = get_imf_data_df(\n",
    "                get_cfa_and_noncfa_data(\n",
    "                    indicator.abbrv, \n",
    "                    countries, \n",
    "                    all_countries\n",
    "                ), \n",
    "                indicator.label\n",
    "            )    \n",
    "        all_dfs.append(all_data_df)\n",
    "    except Exception as e:\n",
    "        logging.debug(\n",
    "            f\"issue with indicator {indicator.label}, abbrv: {indicator.abbrv}, exception: {e}\"\n",
    "        )"
   ]
  },
  {
   "cell_type": "code",
   "execution_count": 34,
   "id": "665bc106-fcdf-4058-982f-8287f1364f5d",
   "metadata": {},
   "outputs": [
    {
     "data": {
      "text/html": [
       "<div><style>\n",
       ".dataframe > thead > tr > th,\n",
       ".dataframe > tbody > tr > td {\n",
       "  text-align: right;\n",
       "  white-space: pre-wrap;\n",
       "}\n",
       "</style>\n",
       "<small>shape: (1_100, 3)</small><table border=\"1\" class=\"dataframe\"><thead><tr><th>Country</th><th>Year</th><th>GDP, Current Prices</th></tr><tr><td>str</td><td>i32</td><td>f32</td></tr></thead><tbody><tr><td>&quot;Benin&quot;</td><td>1980</td><td>2.302</td></tr><tr><td>&quot;Burkina Faso&quot;</td><td>1980</td><td>2.386</td></tr><tr><td>&quot;Central Africa…</td><td>1980</td><td>0.714</td></tr><tr><td>&quot;Côte d&#x27;Ivoire&quot;</td><td>1980</td><td>13.877</td></tr><tr><td>&quot;Cameroon&quot;</td><td>1980</td><td>8.85</td></tr><tr><td>&quot;Congo, Republi…</td><td>1980</td><td>2.165</td></tr><tr><td>&quot;Gabon&quot;</td><td>1980</td><td>4.559</td></tr><tr><td>&quot;Guinea-Bissau&quot;</td><td>1980</td><td>0.289</td></tr><tr><td>&quot;Equatorial Gui…</td><td>1980</td><td>0.032</td></tr><tr><td>&quot;Mali&quot;</td><td>1980</td><td>2.031</td></tr><tr><td>&quot;Niger&quot;</td><td>1980</td><td>3.531</td></tr><tr><td>&quot;Senegal&quot;</td><td>1980</td><td>4.338</td></tr><tr><td>&hellip;</td><td>&hellip;</td><td>&hellip;</td></tr><tr><td>&quot;Togo&quot;</td><td>2023</td><td>9.111</td></tr><tr><td>&quot;Angola&quot;</td><td>2023</td><td>93.795998</td></tr><tr><td>&quot;Congo, Dem. Re…</td><td>2023</td><td>67.512001</td></tr><tr><td>&quot;São Tomé and P…</td><td>2023</td><td>0.674</td></tr><tr><td>&quot;Cabo Verde&quot;</td><td>2023</td><td>2.598</td></tr><tr><td>&quot;Ghana&quot;</td><td>2023</td><td>76.627998</td></tr><tr><td>&quot;Guinea&quot;</td><td>2023</td><td>23.205</td></tr><tr><td>&quot;Gambia, The&quot;</td><td>2023</td><td>2.388</td></tr><tr><td>&quot;Liberia&quot;</td><td>2023</td><td>4.347</td></tr><tr><td>&quot;Mauritania&quot;</td><td>2023</td><td>10.357</td></tr><tr><td>&quot;Nigeria&quot;</td><td>2023</td><td>390.002014</td></tr><tr><td>&quot;Sierra Leone&quot;</td><td>2023</td><td>3.519</td></tr></tbody></table></div>"
      ],
      "text/plain": [
       "shape: (1_100, 3)\n",
       "┌──────────────────────────┬──────┬─────────────────────┐\n",
       "│ Country                  ┆ Year ┆ GDP, Current Prices │\n",
       "│ ---                      ┆ ---  ┆ ---                 │\n",
       "│ str                      ┆ i32  ┆ f32                 │\n",
       "╞══════════════════════════╪══════╪═════════════════════╡\n",
       "│ Benin                    ┆ 1980 ┆ 2.302               │\n",
       "│ Burkina Faso             ┆ 1980 ┆ 2.386               │\n",
       "│ Central African Republic ┆ 1980 ┆ 0.714               │\n",
       "│ Côte d'Ivoire            ┆ 1980 ┆ 13.877              │\n",
       "│ …                        ┆ …    ┆ …                   │\n",
       "│ Liberia                  ┆ 2023 ┆ 4.347               │\n",
       "│ Mauritania               ┆ 2023 ┆ 10.357              │\n",
       "│ Nigeria                  ┆ 2023 ┆ 390.002014          │\n",
       "│ Sierra Leone             ┆ 2023 ┆ 3.519               │\n",
       "└──────────────────────────┴──────┴─────────────────────┘"
      ]
     },
     "execution_count": 34,
     "metadata": {},
     "output_type": "execute_result"
    }
   ],
   "source": [
    "all_dfs[0]"
   ]
  },
  {
   "cell_type": "code",
   "execution_count": 38,
   "id": "e450f5a8-4458-4b59-896c-6689c535f404",
   "metadata": {
    "tags": []
   },
   "outputs": [],
   "source": [
    "\n",
    "indicator_label = 'GDP, Current Prices'"
   ]
  },
  {
   "cell_type": "code",
   "execution_count": 42,
   "id": "1cd319a5-13c0-4bb5-8d5d-a758263cef8b",
   "metadata": {},
   "outputs": [
    {
     "data": {
      "text/html": [
       "<div><style>\n",
       ".dataframe > thead > tr > th,\n",
       ".dataframe > tbody > tr > td {\n",
       "  text-align: right;\n",
       "  white-space: pre-wrap;\n",
       "}\n",
       "</style>\n",
       "<small>shape: (44, 3)</small><table border=\"1\" class=\"dataframe\"><thead><tr><th>Year</th><th>GDP, Current Prices</th><th>GDP, Current Prices_right</th></tr><tr><td>i32</td><td>f32</td><td>f32</td></tr></thead><tbody><tr><td>1980</td><td>2.2335</td><td>2.0505</td></tr><tr><td>1981</td><td>1.7175</td><td>2.102</td></tr><tr><td>1982</td><td>1.545</td><td>2.1925</td></tr><tr><td>1983</td><td>1.4125</td><td>2.033</td></tr><tr><td>1984</td><td>1.436</td><td>2.1945</td></tr><tr><td>1985</td><td>1.503</td><td>2.114</td></tr><tr><td>1986</td><td>2.0085</td><td>1.9945</td></tr><tr><td>1987</td><td>2.369</td><td>1.9925</td></tr><tr><td>1988</td><td>2.449</td><td>2.597</td></tr><tr><td>1989</td><td>2.6525</td><td>2.554</td></tr><tr><td>1990</td><td>3.066</td><td>2.7515</td></tr><tr><td>1991</td><td>3.153</td><td>3.125</td></tr><tr><td>&hellip;</td><td>&hellip;</td><td>&hellip;</td></tr><tr><td>2012</td><td>12.509501</td><td>6.721</td></tr><tr><td>2013</td><td>13.3435</td><td>7.331</td></tr><tr><td>2014</td><td>14.186001</td><td>6.615</td></tr><tr><td>2015</td><td>11.862</td><td>6.182</td></tr><tr><td>2016</td><td>11.5295</td><td>6.414</td></tr><tr><td>2017</td><td>12.448999</td><td>6.826</td></tr><tr><td>2018</td><td>14.519</td><td>7.472</td></tr><tr><td>2019</td><td>14.1845</td><td>8.065</td></tr><tr><td>2020</td><td>14.5505</td><td>8.612</td></tr><tr><td>2021</td><td>16.311001</td><td>9.892</td></tr><tr><td>2022</td><td>16.443501</td><td>9.903</td></tr><tr><td>2023</td><td>18.195999</td><td>10.357</td></tr></tbody></table></div>"
      ],
      "text/plain": [
       "shape: (44, 3)\n",
       "┌──────┬─────────────────────┬───────────────────────────┐\n",
       "│ Year ┆ GDP, Current Prices ┆ GDP, Current Prices_right │\n",
       "│ ---  ┆ ---                 ┆ ---                       │\n",
       "│ i32  ┆ f32                 ┆ f32                       │\n",
       "╞══════╪═════════════════════╪═══════════════════════════╡\n",
       "│ 1980 ┆ 2.2335              ┆ 2.0505                    │\n",
       "│ 1981 ┆ 1.7175              ┆ 2.102                     │\n",
       "│ 1982 ┆ 1.545               ┆ 2.1925                    │\n",
       "│ 1983 ┆ 1.4125              ┆ 2.033                     │\n",
       "│ …    ┆ …                   ┆ …                         │\n",
       "│ 2020 ┆ 14.5505             ┆ 8.612                     │\n",
       "│ 2021 ┆ 16.311001           ┆ 9.892                     │\n",
       "│ 2022 ┆ 16.443501           ┆ 9.903                     │\n",
       "│ 2023 ┆ 18.195999           ┆ 10.357                    │\n",
       "└──────┴─────────────────────┴───────────────────────────┘"
      ]
     },
     "execution_count": 42,
     "metadata": {},
     "output_type": "execute_result"
    }
   ],
   "source": [
    "\n",
    "all_dfs[0].group_by([\"Year\"], maintain_order=True).agg(\n",
    "    pl.col(indicator_label)\n",
    "    .where(pl.col(\"Country\").is_in(CFA_FRANC_ZONE))\n",
    "    .median()\n",
    ").join(\n",
    "    all_dfs[0].group_by([\"Year\"], maintain_order=True).agg(\n",
    "        pl.col(indicator_label)\n",
    "        .where(\n",
    "            pl.col(\"Country\").is_in(WEST_AFRICA)\n",
    "            | pl.col(\"Country\").is_in(MIDDLE_AFRICA)\n",
    "        )\n",
    "        .median()\n",
    "    ),\n",
    "    on=\"Year\",\n",
    ")\n",
    "\n",
    "    # ).drop_nulls().rename({indicator_label: 'cfa_median', f\"{indicator_label}_right\": 'noncfa_median'}).with_columns(pl.col(\"cfa_median\").abs().alias('abs_cfa_median'),\n",
    "    #             pl.col(\"noncfa_median\").abs().alias('abs_noncfa_median')\n",
    "    #             )"
   ]
  },
  {
   "cell_type": "code",
   "execution_count": null,
   "id": "fec13fec-e8f8-4c9c-8f27-b307ada2df91",
   "metadata": {},
   "outputs": [],
   "source": []
  },
  {
   "cell_type": "code",
   "execution_count": 31,
   "id": "9a78e3b1-2fb7-4ca2-b222-5fefdd3a26ea",
   "metadata": {},
   "outputs": [],
   "source": [
    "new_all_dfs = []\n",
    "for df in all_dfs:\n",
    "    new_all_dfs.append(df.with_columns(\n",
    "        pl.lit(df.columns[2]).alias(indicator_label)\n",
    "        pl.col('Country')\n",
    "            .where(pl.col(\"Country\").is_in(CFA_FRANC_ZONE))\n",
    "            .median()\n",
    "    ))"
   ]
  },
  {
   "cell_type": "code",
   "execution_count": 33,
   "id": "89ab4913-8a5c-4f68-a857-c19e51f7b5a0",
   "metadata": {},
   "outputs": [
    {
     "data": {
      "text/html": [
       "<div><style>\n",
       ".dataframe > thead > tr > th,\n",
       ".dataframe > tbody > tr > td {\n",
       "  text-align: right;\n",
       "  white-space: pre-wrap;\n",
       "}\n",
       "</style>\n",
       "<small>shape: (1_100, 4)</small><table border=\"1\" class=\"dataframe\"><thead><tr><th>Country</th><th>Year</th><th>GDP, Current Prices</th><th>Fiscal Council Indicator</th></tr><tr><td>str</td><td>i32</td><td>f32</td><td>str</td></tr></thead><tbody><tr><td>&quot;Benin&quot;</td><td>1980</td><td>2.302</td><td>&quot;GDP, Current P…</td></tr><tr><td>&quot;Burkina Faso&quot;</td><td>1980</td><td>2.386</td><td>&quot;GDP, Current P…</td></tr><tr><td>&quot;Central Africa…</td><td>1980</td><td>0.714</td><td>&quot;GDP, Current P…</td></tr><tr><td>&quot;Côte d&#x27;Ivoire&quot;</td><td>1980</td><td>13.877</td><td>&quot;GDP, Current P…</td></tr><tr><td>&quot;Cameroon&quot;</td><td>1980</td><td>8.85</td><td>&quot;GDP, Current P…</td></tr><tr><td>&quot;Congo, Republi…</td><td>1980</td><td>2.165</td><td>&quot;GDP, Current P…</td></tr><tr><td>&quot;Gabon&quot;</td><td>1980</td><td>4.559</td><td>&quot;GDP, Current P…</td></tr><tr><td>&quot;Guinea-Bissau&quot;</td><td>1980</td><td>0.289</td><td>&quot;GDP, Current P…</td></tr><tr><td>&quot;Equatorial Gui…</td><td>1980</td><td>0.032</td><td>&quot;GDP, Current P…</td></tr><tr><td>&quot;Mali&quot;</td><td>1980</td><td>2.031</td><td>&quot;GDP, Current P…</td></tr><tr><td>&quot;Niger&quot;</td><td>1980</td><td>3.531</td><td>&quot;GDP, Current P…</td></tr><tr><td>&quot;Senegal&quot;</td><td>1980</td><td>4.338</td><td>&quot;GDP, Current P…</td></tr><tr><td>&hellip;</td><td>&hellip;</td><td>&hellip;</td><td>&hellip;</td></tr><tr><td>&quot;Togo&quot;</td><td>2023</td><td>9.111</td><td>&quot;GDP, Current P…</td></tr><tr><td>&quot;Angola&quot;</td><td>2023</td><td>93.795998</td><td>&quot;GDP, Current P…</td></tr><tr><td>&quot;Congo, Dem. Re…</td><td>2023</td><td>67.512001</td><td>&quot;GDP, Current P…</td></tr><tr><td>&quot;São Tomé and P…</td><td>2023</td><td>0.674</td><td>&quot;GDP, Current P…</td></tr><tr><td>&quot;Cabo Verde&quot;</td><td>2023</td><td>2.598</td><td>&quot;GDP, Current P…</td></tr><tr><td>&quot;Ghana&quot;</td><td>2023</td><td>76.627998</td><td>&quot;GDP, Current P…</td></tr><tr><td>&quot;Guinea&quot;</td><td>2023</td><td>23.205</td><td>&quot;GDP, Current P…</td></tr><tr><td>&quot;Gambia, The&quot;</td><td>2023</td><td>2.388</td><td>&quot;GDP, Current P…</td></tr><tr><td>&quot;Liberia&quot;</td><td>2023</td><td>4.347</td><td>&quot;GDP, Current P…</td></tr><tr><td>&quot;Mauritania&quot;</td><td>2023</td><td>10.357</td><td>&quot;GDP, Current P…</td></tr><tr><td>&quot;Nigeria&quot;</td><td>2023</td><td>390.002014</td><td>&quot;GDP, Current P…</td></tr><tr><td>&quot;Sierra Leone&quot;</td><td>2023</td><td>3.519</td><td>&quot;GDP, Current P…</td></tr></tbody></table></div>"
      ],
      "text/plain": [
       "shape: (1_100, 4)\n",
       "┌──────────────────────────┬──────┬─────────────────────┬──────────────────────────┐\n",
       "│ Country                  ┆ Year ┆ GDP, Current Prices ┆ Fiscal Council Indicator │\n",
       "│ ---                      ┆ ---  ┆ ---                 ┆ ---                      │\n",
       "│ str                      ┆ i32  ┆ f32                 ┆ str                      │\n",
       "╞══════════════════════════╪══════╪═════════════════════╪══════════════════════════╡\n",
       "│ Benin                    ┆ 1980 ┆ 2.302               ┆ GDP, Current Prices      │\n",
       "│ Burkina Faso             ┆ 1980 ┆ 2.386               ┆ GDP, Current Prices      │\n",
       "│ Central African Republic ┆ 1980 ┆ 0.714               ┆ GDP, Current Prices      │\n",
       "│ Côte d'Ivoire            ┆ 1980 ┆ 13.877              ┆ GDP, Current Prices      │\n",
       "│ …                        ┆ …    ┆ …                   ┆ …                        │\n",
       "│ Liberia                  ┆ 2023 ┆ 4.347               ┆ GDP, Current Prices      │\n",
       "│ Mauritania               ┆ 2023 ┆ 10.357              ┆ GDP, Current Prices      │\n",
       "│ Nigeria                  ┆ 2023 ┆ 390.002014          ┆ GDP, Current Prices      │\n",
       "│ Sierra Leone             ┆ 2023 ┆ 3.519               ┆ GDP, Current Prices      │\n",
       "└──────────────────────────┴──────┴─────────────────────┴──────────────────────────┘"
      ]
     },
     "execution_count": 33,
     "metadata": {},
     "output_type": "execute_result"
    }
   ],
   "source": [
    "new_all_dfs[0]"
   ]
  },
  {
   "cell_type": "code",
   "execution_count": 26,
   "id": "ee401792-820a-4017-92a5-4f52e97dabcc",
   "metadata": {},
   "outputs": [
    {
     "data": {
      "text/html": [
       "<div><style>\n",
       ".dataframe > thead > tr > th,\n",
       ".dataframe > tbody > tr > td {\n",
       "  text-align: right;\n",
       "  white-space: pre-wrap;\n",
       "}\n",
       "</style>\n",
       "<small>shape: (1_100, 3)</small><table border=\"1\" class=\"dataframe\"><thead><tr><th>Country</th><th>Year</th><th>GDP, Current Prices</th></tr><tr><td>str</td><td>i32</td><td>f32</td></tr></thead><tbody><tr><td>&quot;Benin&quot;</td><td>1980</td><td>2.302</td></tr><tr><td>&quot;Burkina Faso&quot;</td><td>1980</td><td>2.386</td></tr><tr><td>&quot;Central Africa…</td><td>1980</td><td>0.714</td></tr><tr><td>&quot;Côte d&#x27;Ivoire&quot;</td><td>1980</td><td>13.877</td></tr><tr><td>&quot;Cameroon&quot;</td><td>1980</td><td>8.85</td></tr><tr><td>&quot;Congo, Republi…</td><td>1980</td><td>2.165</td></tr><tr><td>&quot;Gabon&quot;</td><td>1980</td><td>4.559</td></tr><tr><td>&quot;Guinea-Bissau&quot;</td><td>1980</td><td>0.289</td></tr><tr><td>&quot;Equatorial Gui…</td><td>1980</td><td>0.032</td></tr><tr><td>&quot;Mali&quot;</td><td>1980</td><td>2.031</td></tr><tr><td>&quot;Niger&quot;</td><td>1980</td><td>3.531</td></tr><tr><td>&quot;Senegal&quot;</td><td>1980</td><td>4.338</td></tr><tr><td>&hellip;</td><td>&hellip;</td><td>&hellip;</td></tr><tr><td>&quot;Togo&quot;</td><td>2023</td><td>9.111</td></tr><tr><td>&quot;Angola&quot;</td><td>2023</td><td>93.795998</td></tr><tr><td>&quot;Congo, Dem. Re…</td><td>2023</td><td>67.512001</td></tr><tr><td>&quot;São Tomé and P…</td><td>2023</td><td>0.674</td></tr><tr><td>&quot;Cabo Verde&quot;</td><td>2023</td><td>2.598</td></tr><tr><td>&quot;Ghana&quot;</td><td>2023</td><td>76.627998</td></tr><tr><td>&quot;Guinea&quot;</td><td>2023</td><td>23.205</td></tr><tr><td>&quot;Gambia, The&quot;</td><td>2023</td><td>2.388</td></tr><tr><td>&quot;Liberia&quot;</td><td>2023</td><td>4.347</td></tr><tr><td>&quot;Mauritania&quot;</td><td>2023</td><td>10.357</td></tr><tr><td>&quot;Nigeria&quot;</td><td>2023</td><td>390.002014</td></tr><tr><td>&quot;Sierra Leone&quot;</td><td>2023</td><td>3.519</td></tr></tbody></table></div>"
      ],
      "text/plain": [
       "shape: (1_100, 3)\n",
       "┌──────────────────────────┬──────┬─────────────────────┐\n",
       "│ Country                  ┆ Year ┆ GDP, Current Prices │\n",
       "│ ---                      ┆ ---  ┆ ---                 │\n",
       "│ str                      ┆ i32  ┆ f32                 │\n",
       "╞══════════════════════════╪══════╪═════════════════════╡\n",
       "│ Benin                    ┆ 1980 ┆ 2.302               │\n",
       "│ Burkina Faso             ┆ 1980 ┆ 2.386               │\n",
       "│ Central African Republic ┆ 1980 ┆ 0.714               │\n",
       "│ Côte d'Ivoire            ┆ 1980 ┆ 13.877              │\n",
       "│ …                        ┆ …    ┆ …                   │\n",
       "│ Liberia                  ┆ 2023 ┆ 4.347               │\n",
       "│ Mauritania               ┆ 2023 ┆ 10.357              │\n",
       "│ Nigeria                  ┆ 2023 ┆ 390.002014          │\n",
       "│ Sierra Leone             ┆ 2023 ┆ 3.519               │\n",
       "└──────────────────────────┴──────┴─────────────────────┘"
      ]
     },
     "execution_count": 26,
     "metadata": {},
     "output_type": "execute_result"
    }
   ],
   "source": [
    "all_dfs[0]"
   ]
  },
  {
   "cell_type": "code",
   "execution_count": 20,
   "id": "74a807e6-b203-4b20-93a5-eccbf99ed420",
   "metadata": {},
   "outputs": [
    {
     "data": {
      "text/html": [
       "<div><style>\n",
       ".dataframe > thead > tr > th,\n",
       ".dataframe > tbody > tr > td {\n",
       "  text-align: right;\n",
       "  white-space: pre-wrap;\n",
       "}\n",
       "</style>\n",
       "<small>shape: (1_100, 3)</small><table border=\"1\" class=\"dataframe\"><thead><tr><th>Country</th><th>Year</th><th>GDP, Current Prices</th></tr><tr><td>str</td><td>i32</td><td>f32</td></tr></thead><tbody><tr><td>&quot;Benin&quot;</td><td>1980</td><td>2.302</td></tr><tr><td>&quot;Burkina Faso&quot;</td><td>1980</td><td>2.386</td></tr><tr><td>&quot;Central Africa…</td><td>1980</td><td>0.714</td></tr><tr><td>&quot;Côte d&#x27;Ivoire&quot;</td><td>1980</td><td>13.877</td></tr><tr><td>&quot;Cameroon&quot;</td><td>1980</td><td>8.85</td></tr><tr><td>&quot;Congo, Republi…</td><td>1980</td><td>2.165</td></tr><tr><td>&quot;Gabon&quot;</td><td>1980</td><td>4.559</td></tr><tr><td>&quot;Guinea-Bissau&quot;</td><td>1980</td><td>0.289</td></tr><tr><td>&quot;Equatorial Gui…</td><td>1980</td><td>0.032</td></tr><tr><td>&quot;Mali&quot;</td><td>1980</td><td>2.031</td></tr><tr><td>&quot;Niger&quot;</td><td>1980</td><td>3.531</td></tr><tr><td>&quot;Senegal&quot;</td><td>1980</td><td>4.338</td></tr><tr><td>&hellip;</td><td>&hellip;</td><td>&hellip;</td></tr><tr><td>&quot;Togo&quot;</td><td>2023</td><td>9.111</td></tr><tr><td>&quot;Angola&quot;</td><td>2023</td><td>93.795998</td></tr><tr><td>&quot;Congo, Dem. Re…</td><td>2023</td><td>67.512001</td></tr><tr><td>&quot;São Tomé and P…</td><td>2023</td><td>0.674</td></tr><tr><td>&quot;Cabo Verde&quot;</td><td>2023</td><td>2.598</td></tr><tr><td>&quot;Ghana&quot;</td><td>2023</td><td>76.627998</td></tr><tr><td>&quot;Guinea&quot;</td><td>2023</td><td>23.205</td></tr><tr><td>&quot;Gambia, The&quot;</td><td>2023</td><td>2.388</td></tr><tr><td>&quot;Liberia&quot;</td><td>2023</td><td>4.347</td></tr><tr><td>&quot;Mauritania&quot;</td><td>2023</td><td>10.357</td></tr><tr><td>&quot;Nigeria&quot;</td><td>2023</td><td>390.002014</td></tr><tr><td>&quot;Sierra Leone&quot;</td><td>2023</td><td>3.519</td></tr></tbody></table></div>"
      ],
      "text/plain": [
       "shape: (1_100, 3)\n",
       "┌──────────────────────────┬──────┬─────────────────────┐\n",
       "│ Country                  ┆ Year ┆ GDP, Current Prices │\n",
       "│ ---                      ┆ ---  ┆ ---                 │\n",
       "│ str                      ┆ i32  ┆ f32                 │\n",
       "╞══════════════════════════╪══════╪═════════════════════╡\n",
       "│ Benin                    ┆ 1980 ┆ 2.302               │\n",
       "│ Burkina Faso             ┆ 1980 ┆ 2.386               │\n",
       "│ Central African Republic ┆ 1980 ┆ 0.714               │\n",
       "│ Côte d'Ivoire            ┆ 1980 ┆ 13.877              │\n",
       "│ …                        ┆ …    ┆ …                   │\n",
       "│ Liberia                  ┆ 2023 ┆ 4.347               │\n",
       "│ Mauritania               ┆ 2023 ┆ 10.357              │\n",
       "│ Nigeria                  ┆ 2023 ┆ 390.002014          │\n",
       "│ Sierra Leone             ┆ 2023 ┆ 3.519               │\n",
       "└──────────────────────────┴──────┴─────────────────────┘"
      ]
     },
     "execution_count": 20,
     "metadata": {},
     "output_type": "execute_result"
    }
   ],
   "source": [
    "all_dfs[0]"
   ]
  },
  {
   "cell_type": "code",
   "execution_count": null,
   "id": "6de6209d-99f7-4414-bdb6-125e78bce3ea",
   "metadata": {},
   "outputs": [],
   "source": [
    "# i'll likely wanna add column economic zone, indicator, and when they joined cfa zone"
   ]
  },
  {
   "cell_type": "code",
   "execution_count": null,
   "id": "0fa9ed88-8a1a-4fa6-acca-e86ccbe967a3",
   "metadata": {},
   "outputs": [],
   "source": [
    "DataFrame.to_json(lines=True, "
   ]
  },
  {
   "cell_type": "code",
   "execution_count": null,
   "id": "5ddca362-bbee-4ac1-a7dd-f6bf8fcc9353",
   "metadata": {},
   "outputs": [],
   "source": []
  }
 ],
 "metadata": {
  "kernelspec": {
   "display_name": "cfa",
   "language": "python",
   "name": "cfa_franc"
  },
  "language_info": {
   "codemirror_mode": {
    "name": "ipython",
    "version": 3
   },
   "file_extension": ".py",
   "mimetype": "text/x-python",
   "name": "python",
   "nbconvert_exporter": "python",
   "pygments_lexer": "ipython3",
   "version": "3.8.2"
  }
 },
 "nbformat": 4,
 "nbformat_minor": 5
}
