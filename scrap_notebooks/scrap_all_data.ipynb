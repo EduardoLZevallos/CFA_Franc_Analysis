{
 "cells": [
  {
   "cell_type": "code",
   "execution_count": 3,
   "id": "5d182903-cda4-4d1c-8e32-c818dd0c1605",
   "metadata": {},
   "outputs": [],
   "source": [
    "import traceback\n",
    "from typing import List, Optional\n",
    "import logging\n",
    "from bokeh.io import output_notebook\n",
    "import polars as pl\n",
    "from cfa_analysis.data_retrieval import (\n",
    "    get_country_mapping,\n",
    "    get_indicators_data,\n",
    "    get_all_duplicate_dfs,\n",
    "    get_imf_data_df,\n",
    "    get_cfa_and_noncfa_data,\n",
    ")\n",
    "from cfa_analysis.data_cleanup import (\n",
    "    find_outliers_IQR,\n",
    "    clean_up_indicators_dict,\n",
    "    find_duplicate_indicators,\n",
    "    merge_duplicate_dfs,\n",
    ")\n",
    "from cfa_analysis.analysis import process_single_indicator\n",
    "from cfa_analysis.data_classes import Indicator\n",
    "from cfa_analysis.constants import CFA_FRANC_ZONE, WEST_AFRICA, MIDDLE_AFRICA, SKIP_INDICATORS"
   ]
  },
  {
   "cell_type": "code",
   "execution_count": 5,
   "id": "8df0d5f2-b722-416b-a7df-2e40328eac68",
   "metadata": {
    "tags": []
   },
   "outputs": [],
   "source": [
    "all_dfs = []\n",
    "all_countries, countries,  = get_country_mapping()\n",
    "indicators = clean_up_indicators_dict(get_indicators_data())\n",
    "duplicate_indicators = find_duplicate_indicators(indicators)\n",
    "processed_dupes = set() # after processing duplicates, also can use to set indicators in general that I want to skip\n",
    "for indicator_abbrv in indicators:\n",
    "    # Wang Jahan ends in 2015 and its an index, requires more research to see if useful\n",
    "    # ommitting Capital Flows because data appears very incomplete\n",
    "    if (indicator_abbrv in SKIP_INDICATORS) or (indicator_abbrv in processed_dupes)  or (indicators[indicator_abbrv]['source'] in ['Wang-Jahan Index', 'Capital Flows in Developing Economies']): \n",
    "        continue\n",
    "    indicator_info = indicators.get(indicator_abbrv, {})\n",
    "    indicator_label = indicator_info.get(\"label\", \"\")\n",
    "    indicator_label = indicator_label.strip(\"\\n\") if indicator_label is not None else None\n",
    "    indicator_unit = indicator_info.get(\"unit\", \"\")\n",
    "    indicator_unit = indicator_unit.strip(\"\\n\") if indicator_unit is not None else None\n",
    "    indicator = Indicator(indicator_abbrv, indicator_info.get(\"description\", \"\"), indicator_label, indicator_unit)\n",
    "    try:\n",
    "        if (indicator.label, indicator.unit) in duplicate_indicators:\n",
    "            all_data_df = merge_duplicate_dfs(get_all_duplicate_dfs(duplicate_indicators, indicator.label, indicator.unit, processed_dupes, countries, all_countries), indicator.label)\n",
    "        else:\n",
    "            all_data_df = get_imf_data_df(\n",
    "                get_cfa_and_noncfa_data(\n",
    "                    indicator.abbrv, \n",
    "                    countries, \n",
    "                    all_countries\n",
    "                ), \n",
    "                indicator.label\n",
    "            )    \n",
    "        all_dfs.append(all_data_df)\n",
    "    except Exception as e:\n",
    "        logging.debug(\n",
    "            f\"issue with indicator {indicator.label}, abbrv: {indicator.abbrv}, exception: {e}\"\n",
    "        )"
   ]
  },
  {
   "cell_type": "code",
   "execution_count": 34,
   "id": "665bc106-fcdf-4058-982f-8287f1364f5d",
   "metadata": {},
   "outputs": [
    {
     "data": {
      "text/html": [
       "<div><style>\n",
       ".dataframe > thead > tr > th,\n",
       ".dataframe > tbody > tr > td {\n",
       "  text-align: right;\n",
       "  white-space: pre-wrap;\n",
       "}\n",
       "</style>\n",
       "<small>shape: (1_100, 3)</small><table border=\"1\" class=\"dataframe\"><thead><tr><th>Country</th><th>Year</th><th>GDP, Current Prices</th></tr><tr><td>str</td><td>i32</td><td>f32</td></tr></thead><tbody><tr><td>&quot;Benin&quot;</td><td>1980</td><td>2.302</td></tr><tr><td>&quot;Burkina Faso&quot;</td><td>1980</td><td>2.386</td></tr><tr><td>&quot;Central Africa…</td><td>1980</td><td>0.714</td></tr><tr><td>&quot;Côte d&#x27;Ivoire&quot;</td><td>1980</td><td>13.877</td></tr><tr><td>&quot;Cameroon&quot;</td><td>1980</td><td>8.85</td></tr><tr><td>&quot;Congo, Republi…</td><td>1980</td><td>2.165</td></tr><tr><td>&quot;Gabon&quot;</td><td>1980</td><td>4.559</td></tr><tr><td>&quot;Guinea-Bissau&quot;</td><td>1980</td><td>0.289</td></tr><tr><td>&quot;Equatorial Gui…</td><td>1980</td><td>0.032</td></tr><tr><td>&quot;Mali&quot;</td><td>1980</td><td>2.031</td></tr><tr><td>&quot;Niger&quot;</td><td>1980</td><td>3.531</td></tr><tr><td>&quot;Senegal&quot;</td><td>1980</td><td>4.338</td></tr><tr><td>&hellip;</td><td>&hellip;</td><td>&hellip;</td></tr><tr><td>&quot;Togo&quot;</td><td>2023</td><td>9.111</td></tr><tr><td>&quot;Angola&quot;</td><td>2023</td><td>93.795998</td></tr><tr><td>&quot;Congo, Dem. Re…</td><td>2023</td><td>67.512001</td></tr><tr><td>&quot;São Tomé and P…</td><td>2023</td><td>0.674</td></tr><tr><td>&quot;Cabo Verde&quot;</td><td>2023</td><td>2.598</td></tr><tr><td>&quot;Ghana&quot;</td><td>2023</td><td>76.627998</td></tr><tr><td>&quot;Guinea&quot;</td><td>2023</td><td>23.205</td></tr><tr><td>&quot;Gambia, The&quot;</td><td>2023</td><td>2.388</td></tr><tr><td>&quot;Liberia&quot;</td><td>2023</td><td>4.347</td></tr><tr><td>&quot;Mauritania&quot;</td><td>2023</td><td>10.357</td></tr><tr><td>&quot;Nigeria&quot;</td><td>2023</td><td>390.002014</td></tr><tr><td>&quot;Sierra Leone&quot;</td><td>2023</td><td>3.519</td></tr></tbody></table></div>"
      ],
      "text/plain": [
       "shape: (1_100, 3)\n",
       "┌──────────────────────────┬──────┬─────────────────────┐\n",
       "│ Country                  ┆ Year ┆ GDP, Current Prices │\n",
       "│ ---                      ┆ ---  ┆ ---                 │\n",
       "│ str                      ┆ i32  ┆ f32                 │\n",
       "╞══════════════════════════╪══════╪═════════════════════╡\n",
       "│ Benin                    ┆ 1980 ┆ 2.302               │\n",
       "│ Burkina Faso             ┆ 1980 ┆ 2.386               │\n",
       "│ Central African Republic ┆ 1980 ┆ 0.714               │\n",
       "│ Côte d'Ivoire            ┆ 1980 ┆ 13.877              │\n",
       "│ …                        ┆ …    ┆ …                   │\n",
       "│ Liberia                  ┆ 2023 ┆ 4.347               │\n",
       "│ Mauritania               ┆ 2023 ┆ 10.357              │\n",
       "│ Nigeria                  ┆ 2023 ┆ 390.002014          │\n",
       "│ Sierra Leone             ┆ 2023 ┆ 3.519               │\n",
       "└──────────────────────────┴──────┴─────────────────────┘"
      ]
     },
     "execution_count": 34,
     "metadata": {},
     "output_type": "execute_result"
    }
   ],
   "source": [
    "all_dfs[0]"
   ]
  },
  {
   "cell_type": "code",
   "execution_count": 38,
   "id": "e450f5a8-4458-4b59-896c-6689c535f404",
   "metadata": {
    "tags": []
   },
   "outputs": [],
   "source": [
    "\n",
    "indicator_label = 'GDP, Current Prices'"
   ]
  },
  {
   "cell_type": "code",
   "execution_count": 1,
   "id": "1cd319a5-13c0-4bb5-8d5d-a758263cef8b",
   "metadata": {},
   "outputs": [
    {
     "ename": "NameError",
     "evalue": "name 'all_dfs' is not defined",
     "output_type": "error",
     "traceback": [
      "\u001b[0;31m---------------------------------------------------------------------------\u001b[0m",
      "\u001b[0;31mNameError\u001b[0m                                 Traceback (most recent call last)",
      "Cell \u001b[0;32mIn[1], line 1\u001b[0m\n\u001b[0;32m----> 1\u001b[0m \u001b[43mall_dfs\u001b[49m[\u001b[38;5;241m0\u001b[39m]\u001b[38;5;241m.\u001b[39mgroup_by([\u001b[38;5;124m\"\u001b[39m\u001b[38;5;124mYear\u001b[39m\u001b[38;5;124m\"\u001b[39m], maintain_order\u001b[38;5;241m=\u001b[39m\u001b[38;5;28;01mTrue\u001b[39;00m)\u001b[38;5;241m.\u001b[39magg(\n\u001b[1;32m      2\u001b[0m     pl\u001b[38;5;241m.\u001b[39mcol(indicator_label)\n\u001b[1;32m      3\u001b[0m     \u001b[38;5;241m.\u001b[39mwhere(pl\u001b[38;5;241m.\u001b[39mcol(\u001b[38;5;124m\"\u001b[39m\u001b[38;5;124mCountry\u001b[39m\u001b[38;5;124m\"\u001b[39m)\u001b[38;5;241m.\u001b[39mis_in(CFA_FRANC_ZONE))\n\u001b[1;32m      4\u001b[0m     \u001b[38;5;241m.\u001b[39mmedian()\n\u001b[1;32m      5\u001b[0m )\u001b[38;5;241m.\u001b[39mjoin(\n\u001b[1;32m      6\u001b[0m     all_dfs[\u001b[38;5;241m0\u001b[39m]\u001b[38;5;241m.\u001b[39mgroup_by([\u001b[38;5;124m\"\u001b[39m\u001b[38;5;124mYear\u001b[39m\u001b[38;5;124m\"\u001b[39m], maintain_order\u001b[38;5;241m=\u001b[39m\u001b[38;5;28;01mTrue\u001b[39;00m)\u001b[38;5;241m.\u001b[39magg(\n\u001b[1;32m      7\u001b[0m         pl\u001b[38;5;241m.\u001b[39mcol(indicator_label)\n\u001b[1;32m      8\u001b[0m         \u001b[38;5;241m.\u001b[39mwhere(\n\u001b[1;32m      9\u001b[0m             pl\u001b[38;5;241m.\u001b[39mcol(\u001b[38;5;124m\"\u001b[39m\u001b[38;5;124mCountry\u001b[39m\u001b[38;5;124m\"\u001b[39m)\u001b[38;5;241m.\u001b[39mis_in(WEST_AFRICA)\n\u001b[1;32m     10\u001b[0m             \u001b[38;5;241m|\u001b[39m pl\u001b[38;5;241m.\u001b[39mcol(\u001b[38;5;124m\"\u001b[39m\u001b[38;5;124mCountry\u001b[39m\u001b[38;5;124m\"\u001b[39m)\u001b[38;5;241m.\u001b[39mis_in(MIDDLE_AFRICA)\n\u001b[1;32m     11\u001b[0m         )\n\u001b[1;32m     12\u001b[0m         \u001b[38;5;241m.\u001b[39mmedian()\n\u001b[1;32m     13\u001b[0m     ),\n\u001b[1;32m     14\u001b[0m     on\u001b[38;5;241m=\u001b[39m\u001b[38;5;124m\"\u001b[39m\u001b[38;5;124mYear\u001b[39m\u001b[38;5;124m\"\u001b[39m,\n\u001b[1;32m     15\u001b[0m )\n\u001b[1;32m     17\u001b[0m     \u001b[38;5;66;03m# ).drop_nulls().rename({indicator_label: 'cfa_median', f\"{indicator_label}_right\": 'noncfa_median'}).with_columns(pl.col(\"cfa_median\").abs().alias('abs_cfa_median'),\u001b[39;00m\n\u001b[1;32m     18\u001b[0m     \u001b[38;5;66;03m#             pl.col(\"noncfa_median\").abs().alias('abs_noncfa_median')\u001b[39;00m\n\u001b[1;32m     19\u001b[0m     \u001b[38;5;66;03m#             )\u001b[39;00m\n",
      "\u001b[0;31mNameError\u001b[0m: name 'all_dfs' is not defined"
     ]
    }
   ],
   "source": [
    "\n",
    "all_dfs[0].group_by([\"Year\"], maintain_order=True).agg(\n",
    "    pl.col(indicator_label)\n",
    "    .where(pl.col(\"Country\").is_in(CFA_FRANC_ZONE))\n",
    "    .median()\n",
    ").join(\n",
    "    all_dfs[0].group_by([\"Year\"], maintain_order=True).agg(\n",
    "        pl.col(indicator_label)\n",
    "        .where(\n",
    "            pl.col(\"Country\").is_in(WEST_AFRICA)\n",
    "            | pl.col(\"Country\").is_in(MIDDLE_AFRICA)\n",
    "        )\n",
    "        .median()\n",
    "    ),\n",
    "    on=\"Year\",\n",
    ")\n",
    "\n",
    "    # ).drop_nulls().rename({indicator_label: 'cfa_median', f\"{indicator_label}_right\": 'noncfa_median'}).with_columns(pl.col(\"cfa_median\").abs().alias('abs_cfa_median'),\n",
    "    #             pl.col(\"noncfa_median\").abs().alias('abs_noncfa_median')\n",
    "    #             )"
   ]
  },
  {
   "cell_type": "code",
   "execution_count": null,
   "id": "fec13fec-e8f8-4c9c-8f27-b307ada2df91",
   "metadata": {},
   "outputs": [],
   "source": []
  },
  {
   "cell_type": "code",
   "execution_count": 31,
   "id": "9a78e3b1-2fb7-4ca2-b222-5fefdd3a26ea",
   "metadata": {},
   "outputs": [],
   "source": [
    "new_all_dfs = []\n",
    "for df in all_dfs:\n",
    "    new_all_dfs.append(df.with_columns(\n",
    "        pl.lit(df.columns[2]).alias(indicator_label)\n",
    "        pl.col('Country')\n",
    "            .where(pl.col(\"Country\").is_in(CFA_FRANC_ZONE))\n",
    "            .median()\n",
    "    ))"
   ]
  },
  {
   "cell_type": "code",
   "execution_count": 33,
   "id": "89ab4913-8a5c-4f68-a857-c19e51f7b5a0",
   "metadata": {},
   "outputs": [
    {
     "data": {
      "text/html": [
       "<div><style>\n",
       ".dataframe > thead > tr > th,\n",
       ".dataframe > tbody > tr > td {\n",
       "  text-align: right;\n",
       "  white-space: pre-wrap;\n",
       "}\n",
       "</style>\n",
       "<small>shape: (1_100, 4)</small><table border=\"1\" class=\"dataframe\"><thead><tr><th>Country</th><th>Year</th><th>GDP, Current Prices</th><th>Fiscal Council Indicator</th></tr><tr><td>str</td><td>i32</td><td>f32</td><td>str</td></tr></thead><tbody><tr><td>&quot;Benin&quot;</td><td>1980</td><td>2.302</td><td>&quot;GDP, Current P…</td></tr><tr><td>&quot;Burkina Faso&quot;</td><td>1980</td><td>2.386</td><td>&quot;GDP, Current P…</td></tr><tr><td>&quot;Central Africa…</td><td>1980</td><td>0.714</td><td>&quot;GDP, Current P…</td></tr><tr><td>&quot;Côte d&#x27;Ivoire&quot;</td><td>1980</td><td>13.877</td><td>&quot;GDP, Current P…</td></tr><tr><td>&quot;Cameroon&quot;</td><td>1980</td><td>8.85</td><td>&quot;GDP, Current P…</td></tr><tr><td>&quot;Congo, Republi…</td><td>1980</td><td>2.165</td><td>&quot;GDP, Current P…</td></tr><tr><td>&quot;Gabon&quot;</td><td>1980</td><td>4.559</td><td>&quot;GDP, Current P…</td></tr><tr><td>&quot;Guinea-Bissau&quot;</td><td>1980</td><td>0.289</td><td>&quot;GDP, Current P…</td></tr><tr><td>&quot;Equatorial Gui…</td><td>1980</td><td>0.032</td><td>&quot;GDP, Current P…</td></tr><tr><td>&quot;Mali&quot;</td><td>1980</td><td>2.031</td><td>&quot;GDP, Current P…</td></tr><tr><td>&quot;Niger&quot;</td><td>1980</td><td>3.531</td><td>&quot;GDP, Current P…</td></tr><tr><td>&quot;Senegal&quot;</td><td>1980</td><td>4.338</td><td>&quot;GDP, Current P…</td></tr><tr><td>&hellip;</td><td>&hellip;</td><td>&hellip;</td><td>&hellip;</td></tr><tr><td>&quot;Togo&quot;</td><td>2023</td><td>9.111</td><td>&quot;GDP, Current P…</td></tr><tr><td>&quot;Angola&quot;</td><td>2023</td><td>93.795998</td><td>&quot;GDP, Current P…</td></tr><tr><td>&quot;Congo, Dem. Re…</td><td>2023</td><td>67.512001</td><td>&quot;GDP, Current P…</td></tr><tr><td>&quot;São Tomé and P…</td><td>2023</td><td>0.674</td><td>&quot;GDP, Current P…</td></tr><tr><td>&quot;Cabo Verde&quot;</td><td>2023</td><td>2.598</td><td>&quot;GDP, Current P…</td></tr><tr><td>&quot;Ghana&quot;</td><td>2023</td><td>76.627998</td><td>&quot;GDP, Current P…</td></tr><tr><td>&quot;Guinea&quot;</td><td>2023</td><td>23.205</td><td>&quot;GDP, Current P…</td></tr><tr><td>&quot;Gambia, The&quot;</td><td>2023</td><td>2.388</td><td>&quot;GDP, Current P…</td></tr><tr><td>&quot;Liberia&quot;</td><td>2023</td><td>4.347</td><td>&quot;GDP, Current P…</td></tr><tr><td>&quot;Mauritania&quot;</td><td>2023</td><td>10.357</td><td>&quot;GDP, Current P…</td></tr><tr><td>&quot;Nigeria&quot;</td><td>2023</td><td>390.002014</td><td>&quot;GDP, Current P…</td></tr><tr><td>&quot;Sierra Leone&quot;</td><td>2023</td><td>3.519</td><td>&quot;GDP, Current P…</td></tr></tbody></table></div>"
      ],
      "text/plain": [
       "shape: (1_100, 4)\n",
       "┌──────────────────────────┬──────┬─────────────────────┬──────────────────────────┐\n",
       "│ Country                  ┆ Year ┆ GDP, Current Prices ┆ Fiscal Council Indicator │\n",
       "│ ---                      ┆ ---  ┆ ---                 ┆ ---                      │\n",
       "│ str                      ┆ i32  ┆ f32                 ┆ str                      │\n",
       "╞══════════════════════════╪══════╪═════════════════════╪══════════════════════════╡\n",
       "│ Benin                    ┆ 1980 ┆ 2.302               ┆ GDP, Current Prices      │\n",
       "│ Burkina Faso             ┆ 1980 ┆ 2.386               ┆ GDP, Current Prices      │\n",
       "│ Central African Republic ┆ 1980 ┆ 0.714               ┆ GDP, Current Prices      │\n",
       "│ Côte d'Ivoire            ┆ 1980 ┆ 13.877              ┆ GDP, Current Prices      │\n",
       "│ …                        ┆ …    ┆ …                   ┆ …                        │\n",
       "│ Liberia                  ┆ 2023 ┆ 4.347               ┆ GDP, Current Prices      │\n",
       "│ Mauritania               ┆ 2023 ┆ 10.357              ┆ GDP, Current Prices      │\n",
       "│ Nigeria                  ┆ 2023 ┆ 390.002014          ┆ GDP, Current Prices      │\n",
       "│ Sierra Leone             ┆ 2023 ┆ 3.519               ┆ GDP, Current Prices      │\n",
       "└──────────────────────────┴──────┴─────────────────────┴──────────────────────────┘"
      ]
     },
     "execution_count": 33,
     "metadata": {},
     "output_type": "execute_result"
    }
   ],
   "source": [
    "new_all_dfs[0]"
   ]
  },
  {
   "cell_type": "code",
   "execution_count": 26,
   "id": "ee401792-820a-4017-92a5-4f52e97dabcc",
   "metadata": {},
   "outputs": [
    {
     "data": {
      "text/html": [
       "<div><style>\n",
       ".dataframe > thead > tr > th,\n",
       ".dataframe > tbody > tr > td {\n",
       "  text-align: right;\n",
       "  white-space: pre-wrap;\n",
       "}\n",
       "</style>\n",
       "<small>shape: (1_100, 3)</small><table border=\"1\" class=\"dataframe\"><thead><tr><th>Country</th><th>Year</th><th>GDP, Current Prices</th></tr><tr><td>str</td><td>i32</td><td>f32</td></tr></thead><tbody><tr><td>&quot;Benin&quot;</td><td>1980</td><td>2.302</td></tr><tr><td>&quot;Burkina Faso&quot;</td><td>1980</td><td>2.386</td></tr><tr><td>&quot;Central Africa…</td><td>1980</td><td>0.714</td></tr><tr><td>&quot;Côte d&#x27;Ivoire&quot;</td><td>1980</td><td>13.877</td></tr><tr><td>&quot;Cameroon&quot;</td><td>1980</td><td>8.85</td></tr><tr><td>&quot;Congo, Republi…</td><td>1980</td><td>2.165</td></tr><tr><td>&quot;Gabon&quot;</td><td>1980</td><td>4.559</td></tr><tr><td>&quot;Guinea-Bissau&quot;</td><td>1980</td><td>0.289</td></tr><tr><td>&quot;Equatorial Gui…</td><td>1980</td><td>0.032</td></tr><tr><td>&quot;Mali&quot;</td><td>1980</td><td>2.031</td></tr><tr><td>&quot;Niger&quot;</td><td>1980</td><td>3.531</td></tr><tr><td>&quot;Senegal&quot;</td><td>1980</td><td>4.338</td></tr><tr><td>&hellip;</td><td>&hellip;</td><td>&hellip;</td></tr><tr><td>&quot;Togo&quot;</td><td>2023</td><td>9.111</td></tr><tr><td>&quot;Angola&quot;</td><td>2023</td><td>93.795998</td></tr><tr><td>&quot;Congo, Dem. Re…</td><td>2023</td><td>67.512001</td></tr><tr><td>&quot;São Tomé and P…</td><td>2023</td><td>0.674</td></tr><tr><td>&quot;Cabo Verde&quot;</td><td>2023</td><td>2.598</td></tr><tr><td>&quot;Ghana&quot;</td><td>2023</td><td>76.627998</td></tr><tr><td>&quot;Guinea&quot;</td><td>2023</td><td>23.205</td></tr><tr><td>&quot;Gambia, The&quot;</td><td>2023</td><td>2.388</td></tr><tr><td>&quot;Liberia&quot;</td><td>2023</td><td>4.347</td></tr><tr><td>&quot;Mauritania&quot;</td><td>2023</td><td>10.357</td></tr><tr><td>&quot;Nigeria&quot;</td><td>2023</td><td>390.002014</td></tr><tr><td>&quot;Sierra Leone&quot;</td><td>2023</td><td>3.519</td></tr></tbody></table></div>"
      ],
      "text/plain": [
       "shape: (1_100, 3)\n",
       "┌──────────────────────────┬──────┬─────────────────────┐\n",
       "│ Country                  ┆ Year ┆ GDP, Current Prices │\n",
       "│ ---                      ┆ ---  ┆ ---                 │\n",
       "│ str                      ┆ i32  ┆ f32                 │\n",
       "╞══════════════════════════╪══════╪═════════════════════╡\n",
       "│ Benin                    ┆ 1980 ┆ 2.302               │\n",
       "│ Burkina Faso             ┆ 1980 ┆ 2.386               │\n",
       "│ Central African Republic ┆ 1980 ┆ 0.714               │\n",
       "│ Côte d'Ivoire            ┆ 1980 ┆ 13.877              │\n",
       "│ …                        ┆ …    ┆ …                   │\n",
       "│ Liberia                  ┆ 2023 ┆ 4.347               │\n",
       "│ Mauritania               ┆ 2023 ┆ 10.357              │\n",
       "│ Nigeria                  ┆ 2023 ┆ 390.002014          │\n",
       "│ Sierra Leone             ┆ 2023 ┆ 3.519               │\n",
       "└──────────────────────────┴──────┴─────────────────────┘"
      ]
     },
     "execution_count": 26,
     "metadata": {},
     "output_type": "execute_result"
    }
   ],
   "source": [
    "all_dfs[0]"
   ]
  },
  {
   "cell_type": "code",
   "execution_count": 20,
   "id": "74a807e6-b203-4b20-93a5-eccbf99ed420",
   "metadata": {},
   "outputs": [
    {
     "data": {
      "text/html": [
       "<div><style>\n",
       ".dataframe > thead > tr > th,\n",
       ".dataframe > tbody > tr > td {\n",
       "  text-align: right;\n",
       "  white-space: pre-wrap;\n",
       "}\n",
       "</style>\n",
       "<small>shape: (1_100, 3)</small><table border=\"1\" class=\"dataframe\"><thead><tr><th>Country</th><th>Year</th><th>GDP, Current Prices</th></tr><tr><td>str</td><td>i32</td><td>f32</td></tr></thead><tbody><tr><td>&quot;Benin&quot;</td><td>1980</td><td>2.302</td></tr><tr><td>&quot;Burkina Faso&quot;</td><td>1980</td><td>2.386</td></tr><tr><td>&quot;Central Africa…</td><td>1980</td><td>0.714</td></tr><tr><td>&quot;Côte d&#x27;Ivoire&quot;</td><td>1980</td><td>13.877</td></tr><tr><td>&quot;Cameroon&quot;</td><td>1980</td><td>8.85</td></tr><tr><td>&quot;Congo, Republi…</td><td>1980</td><td>2.165</td></tr><tr><td>&quot;Gabon&quot;</td><td>1980</td><td>4.559</td></tr><tr><td>&quot;Guinea-Bissau&quot;</td><td>1980</td><td>0.289</td></tr><tr><td>&quot;Equatorial Gui…</td><td>1980</td><td>0.032</td></tr><tr><td>&quot;Mali&quot;</td><td>1980</td><td>2.031</td></tr><tr><td>&quot;Niger&quot;</td><td>1980</td><td>3.531</td></tr><tr><td>&quot;Senegal&quot;</td><td>1980</td><td>4.338</td></tr><tr><td>&hellip;</td><td>&hellip;</td><td>&hellip;</td></tr><tr><td>&quot;Togo&quot;</td><td>2023</td><td>9.111</td></tr><tr><td>&quot;Angola&quot;</td><td>2023</td><td>93.795998</td></tr><tr><td>&quot;Congo, Dem. Re…</td><td>2023</td><td>67.512001</td></tr><tr><td>&quot;São Tomé and P…</td><td>2023</td><td>0.674</td></tr><tr><td>&quot;Cabo Verde&quot;</td><td>2023</td><td>2.598</td></tr><tr><td>&quot;Ghana&quot;</td><td>2023</td><td>76.627998</td></tr><tr><td>&quot;Guinea&quot;</td><td>2023</td><td>23.205</td></tr><tr><td>&quot;Gambia, The&quot;</td><td>2023</td><td>2.388</td></tr><tr><td>&quot;Liberia&quot;</td><td>2023</td><td>4.347</td></tr><tr><td>&quot;Mauritania&quot;</td><td>2023</td><td>10.357</td></tr><tr><td>&quot;Nigeria&quot;</td><td>2023</td><td>390.002014</td></tr><tr><td>&quot;Sierra Leone&quot;</td><td>2023</td><td>3.519</td></tr></tbody></table></div>"
      ],
      "text/plain": [
       "shape: (1_100, 3)\n",
       "┌──────────────────────────┬──────┬─────────────────────┐\n",
       "│ Country                  ┆ Year ┆ GDP, Current Prices │\n",
       "│ ---                      ┆ ---  ┆ ---                 │\n",
       "│ str                      ┆ i32  ┆ f32                 │\n",
       "╞══════════════════════════╪══════╪═════════════════════╡\n",
       "│ Benin                    ┆ 1980 ┆ 2.302               │\n",
       "│ Burkina Faso             ┆ 1980 ┆ 2.386               │\n",
       "│ Central African Republic ┆ 1980 ┆ 0.714               │\n",
       "│ Côte d'Ivoire            ┆ 1980 ┆ 13.877              │\n",
       "│ …                        ┆ …    ┆ …                   │\n",
       "│ Liberia                  ┆ 2023 ┆ 4.347               │\n",
       "│ Mauritania               ┆ 2023 ┆ 10.357              │\n",
       "│ Nigeria                  ┆ 2023 ┆ 390.002014          │\n",
       "│ Sierra Leone             ┆ 2023 ┆ 3.519               │\n",
       "└──────────────────────────┴──────┴─────────────────────┘"
      ]
     },
     "execution_count": 20,
     "metadata": {},
     "output_type": "execute_result"
    }
   ],
   "source": [
    "all_dfs[0]"
   ]
  },
  {
   "cell_type": "code",
   "execution_count": null,
   "id": "6de6209d-99f7-4414-bdb6-125e78bce3ea",
   "metadata": {},
   "outputs": [],
   "source": [
    "# i'll likely wanna add column economic zone, indicator, and when they joined cfa zone"
   ]
  },
  {
   "cell_type": "code",
   "execution_count": null,
   "id": "0fa9ed88-8a1a-4fa6-acca-e86ccbe967a3",
   "metadata": {},
   "outputs": [],
   "source": [
    "DataFrame.to_json(lines=True, "
   ]
  },
  {
   "cell_type": "code",
   "execution_count": null,
   "id": "5ddca362-bbee-4ac1-a7dd-f6bf8fcc9353",
   "metadata": {},
   "outputs": [],
   "source": []
  }
 ],
 "metadata": {
  "kernelspec": {
   "display_name": "cfa",
   "language": "python",
   "name": "cfa_franc"
  },
  "language_info": {
   "codemirror_mode": {
    "name": "ipython",
    "version": 3
   },
   "file_extension": ".py",
   "mimetype": "text/x-python",
   "name": "python",
   "nbconvert_exporter": "python",
   "pygments_lexer": "ipython3",
   "version": "3.11.6"
  }
 },
 "nbformat": 4,
 "nbformat_minor": 5
}
